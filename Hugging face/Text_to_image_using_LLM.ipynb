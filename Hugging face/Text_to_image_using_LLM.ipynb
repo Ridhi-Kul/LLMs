{
  "nbformat": 4,
  "nbformat_minor": 0,
  "metadata": {
    "colab": {
      "provenance": []
    },
    "kernelspec": {
      "name": "python3",
      "display_name": "Python 3"
    },
    "language_info": {
      "name": "python"
    }
  },
  "cells": [
    {
      "cell_type": "markdown",
      "source": [
        "###We will perform this task using stable diffusion and diffusers. Diffusers is a hugging face page for using diffusion models from huggingface hub\n",
        "\n",
        "### Diffusion models are a type of generative model that learn to generate data by adding noise to data, then learning to reverse this process to remove the noise and regenerate the original data\n",
        "### \"noise\" refers to unwanted random variations in brightness or color that are not part of the original scene"
      ],
      "metadata": {
        "id": "6bJKxRTEaCEN"
      }
    },
    {
      "cell_type": "markdown",
      "source": [
        "[About diffusers and using them on Hugging Face](https://huggingface.co/docs/diffusers/using-diffusers/loading)\n",
        "\n"
      ],
      "metadata": {
        "id": "RYEXnUdyb-_K"
      }
    },
    {
      "cell_type": "markdown",
      "source": [
        "### The model being used here is multimodal, as it uses text and images. We will use NLP for text and computer vision to generate image"
      ],
      "metadata": {
        "id": "_irZfWMfcMT1"
      }
    },
    {
      "cell_type": "code",
      "execution_count": null,
      "metadata": {
        "id": "WQTm5znWZpvL"
      },
      "outputs": [],
      "source": [
        "!pip install diffusers transformers accelerate"
      ]
    },
    {
      "cell_type": "code",
      "source": [
        "from diffusers import StableDiffusionPipeline\n",
        "import torch # To visualise the image\n",
        "import matplotlib.pyplot as plt"
      ],
      "metadata": {
        "id": "MgSXl_J-amsW"
      },
      "execution_count": null,
      "outputs": []
    },
    {
      "cell_type": "code",
      "source": [
        "!pip show torch"
      ],
      "metadata": {
        "id": "qRtG01B2ampb"
      },
      "execution_count": null,
      "outputs": []
    },
    {
      "cell_type": "code",
      "source": [
        "model_id1 = \"dreamlike-art/dreamlike-diffusion-1.0\"\n",
        "model_id2 = \"stabilityai/stable-diffusion-xl-base-1.0\"\n",
        "\n",
        "pipe = StableDiffusionPipeline.from_pretrained(model_id1, torch_dtype=torch.float16, use_safetensors=True)\n",
        "pipe = pipe.to(\"cuda\")"
      ],
      "metadata": {
        "id": "wyAfP-5JamnE"
      },
      "execution_count": null,
      "outputs": []
    },
    {
      "cell_type": "code",
      "source": [
        "prompt = \"\"\"dreamlikeart, a grungy woman with rainbow hair, travelling between dimensions, dynamic pose, happy, soft eyes and narrow chin, extreme bokeh, dainty figure, long hair straight down, torn kawaii shirt and baggy jeans\"\"\""
      ],
      "metadata": {
        "id": "SalAZa1Iamke"
      },
      "execution_count": null,
      "outputs": []
    },
    {
      "cell_type": "code",
      "source": [
        "image = pipe(prompt).images[0]"
      ],
      "metadata": {
        "id": "IAErnvZJamh6"
      },
      "execution_count": null,
      "outputs": []
    },
    {
      "cell_type": "code",
      "source": [
        "print(\"[PROMPT]: \", prompt)\n",
        "plt.imshow(image)\n",
        "plt.axis('off')"
      ],
      "metadata": {
        "id": "Di2vTPpngd2s"
      },
      "execution_count": null,
      "outputs": []
    },
    {
      "cell_type": "code",
      "source": [
        "image"
      ],
      "metadata": {
        "id": "fh1HBV-hgd0p"
      },
      "execution_count": null,
      "outputs": []
    },
    {
      "cell_type": "markdown",
      "source": [
        "### Working with Stable Diffusion parameters\n",
        "\n",
        "\n",
        "*   Negative prompting\n",
        "*   num_inference_steps\n",
        "*   height\n",
        "*   weight\n",
        "*   num_images_per_prompt\n",
        "\n"
      ],
      "metadata": {
        "id": "DxrRCx08hVGg"
      }
    },
    {
      "cell_type": "code",
      "source": [
        "# To generate image for multiple prompts?\n",
        "def generate_image(pipe, prompt, params):\n",
        "  img = pipe(prompt, **params).images\n",
        "\n",
        "  num_images = len(img)\n",
        "  if num_images>1:\n",
        "    fig, ax = plt.subplots(nrows = 1, ncols = num_images)\n",
        "    for i in range(num_images):\n",
        "      ax[i].imshow(img[i])\n",
        "      ax[i].axis('off')\n",
        "  else:\n",
        "    fig = plt.figure()\n",
        "    plt.imshow(img[0])\n",
        "    plt.axis('off')\n",
        "    plt.tight_layout()"
      ],
      "metadata": {
        "id": "VqSyMGyRgdyL"
      },
      "execution_count": null,
      "outputs": []
    },
    {
      "cell_type": "code",
      "source": [
        "prompt = \"dreamlikeart, a grungy woman with rainbow hair, travelling between dimensions, dynamic pose, happy, soft eyes and narrow chin, extreme bokeh, dainty figure, long hair straight down, torn kawaii shirt and baggy jeans\"\n",
        "params = {}"
      ],
      "metadata": {
        "id": "xFQH9_O3gdvt"
      },
      "execution_count": null,
      "outputs": []
    },
    {
      "cell_type": "code",
      "source": [
        "generate_image(pipe, prompt, params)"
      ],
      "metadata": {
        "id": "y9DNWeo7gdto"
      },
      "execution_count": null,
      "outputs": []
    },
    {
      "cell_type": "code",
      "source": [
        "# num inference steps\n",
        "params = {\"num_inference_steps\": 100}\n",
        "generate_image(pipe, prompt, params)"
      ],
      "metadata": {
        "id": "BE5DgStpgdrS"
      },
      "execution_count": null,
      "outputs": []
    },
    {
      "cell_type": "code",
      "source": [
        "# Height width\n",
        "params = params = {\"num_inference_steps\": 100, 'width': 512, 'height': int(1.5*640)}\n",
        "generate_image(pipe, prompt, params)"
      ],
      "metadata": {
        "id": "gPMdoCLciys-"
      },
      "execution_count": null,
      "outputs": []
    },
    {
      "cell_type": "code",
      "source": [
        "# num_images_per_prompt\n",
        "params = params = {\"num_inference_steps\": 100, 'num_images_per_prompt': 2}\n",
        "generate_image(pipe, prompt, params)"
      ],
      "metadata": {
        "id": "s_-GOL3Siyqx"
      },
      "execution_count": null,
      "outputs": []
    },
    {
      "cell_type": "code",
      "source": [
        "# negative_prompt\n",
        "\n",
        "params = params = {\"num_inference_steps\": 100, 'num_images_per_prompt': 2, 'negative_prompt': 'ugly, distorted, low quality'}\n",
        "generate_image(pipe, prompt, params)"
      ],
      "metadata": {
        "id": "SK34PNT8iyoa"
      },
      "execution_count": null,
      "outputs": []
    }
  ]
}