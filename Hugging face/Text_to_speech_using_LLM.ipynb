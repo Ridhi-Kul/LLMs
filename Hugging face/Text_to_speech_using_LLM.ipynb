{
  "nbformat": 4,
  "nbformat_minor": 0,
  "metadata": {
    "colab": {
      "provenance": []
    },
    "kernelspec": {
      "name": "python3",
      "display_name": "Python 3"
    },
    "language_info": {
      "name": "python"
    }
  },
  "cells": [
    {
      "cell_type": "code",
      "execution_count": null,
      "metadata": {
        "id": "Ec_DS2Gjlc1C"
      },
      "outputs": [],
      "source": [
        "!pip install transformers"
      ]
    },
    {
      "cell_type": "code",
      "source": [
        "from transformers import pipeline"
      ],
      "metadata": {
        "id": "yWFVqpPSlo9m"
      },
      "execution_count": null,
      "outputs": []
    },
    {
      "cell_type": "code",
      "source": [
        "text = \"Python is a high-level, general-purpose programming language.\"\n",
        "\n",
        "pipe = pipeline(\"text-to-speech\", model=\"suno/bark-small\", device=\"cuda\")\n",
        "\n",
        "output = pipe(text)"
      ],
      "metadata": {
        "id": "RYufwkxilqNG"
      },
      "execution_count": null,
      "outputs": []
    },
    {
      "cell_type": "code",
      "source": [
        "output # This output is a numpy array"
      ],
      "metadata": {
        "id": "oGdcXduwlswA"
      },
      "execution_count": null,
      "outputs": []
    },
    {
      "cell_type": "code",
      "source": [
        "from IPython.display import Audio\n",
        "# Numpy array converted to audio\n",
        "Audio(output[\"audio\"], rate=output[\"sampling_rate\"])"
      ],
      "metadata": {
        "id": "rDqSEwpgluLJ"
      },
      "execution_count": null,
      "outputs": []
    }
  ]
}